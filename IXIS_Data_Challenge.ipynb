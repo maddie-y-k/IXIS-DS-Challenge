{
 "cells": [
  {
   "cell_type": "markdown",
   "metadata": {},
   "source": [
    "Imports"
   ]
  },
  {
   "cell_type": "code",
   "execution_count": 35,
   "metadata": {},
   "outputs": [],
   "source": [
    "import pandas as pd\n",
    "from openpyxl import load_workbook\n",
    "from openpyxl.styles import Font, Alignment, PatternFill\n",
    "from openpyxl.styles.borders import Border, Side\n",
    "from openpyxl.utils.dataframe import dataframe_to_rows"
   ]
  },
  {
   "cell_type": "markdown",
   "metadata": {},
   "source": [
    "Function for centering and resizing cells"
   ]
  },
  {
   "cell_type": "code",
   "execution_count": 36,
   "metadata": {},
   "outputs": [],
   "source": [
    "def centerAndResize(worksheet):\n",
    "    for column in worksheet.columns:\n",
    "        maxLength = 0\n",
    "        columnLetter = column[0].column_letter\n",
    "        for cell in column:\n",
    "            cell.alignment = Alignment(horizontal= 'center')\n",
    "            try:\n",
    "                if len(str(cell.value)) > maxLength:\n",
    "                    maxLength = len(cell.value)\n",
    "            except:\n",
    "                pass\n",
    "        adjustedWidth = (maxLength + 2) * 1.2\n",
    "        worksheet.column_dimensions[columnLetter].width = adjustedWidth"
   ]
  },
  {
   "cell_type": "markdown",
   "metadata": {},
   "source": [
    "Month Device Worksheet"
   ]
  },
  {
   "cell_type": "code",
   "execution_count": 37,
   "metadata": {},
   "outputs": [],
   "source": [
    "# Replace file names as needed\n",
    "PATH_NAME = '/Users/maddiekong/Downloads/'\n",
    "SESSION_COUNTS_FILE_NAME = PATH_NAME + 'DataAnalyst_Ecom_data_sessionCounts.csv'\n",
    "ADDS_TO_CART_FILE_NAME = PATH_NAME + 'DataAnalyst_Ecom_data_addsToCart.csv'\n",
    "OUTPUT_FILE_NAME = PATH_NAME + 'Online Retailer Performance Analysis.xlsx'\n",
    "# Constants\n",
    "HEADER_FONT = Font(color = 'FFFFFF')\n",
    "HEADER_FILL = PatternFill(fgColor = '1D6F42', fill_type = 'solid')\n",
    "SIDE = Side(style = 'thin')\n",
    "BORDER = Border(left = SIDE, right = SIDE, top = SIDE, bottom = SIDE)\n",
    "# Import CSV\n",
    "sessionCounts = pd.read_csv(SESSION_COUNTS_FILE_NAME)\n",
    "# Add month & year column \n",
    "datetimeIndices = pd.DatetimeIndex(sessionCounts['dim_date'])\n",
    "sessionCounts['year'] = datetimeIndices.year\n",
    "sessionCounts['month'] = datetimeIndices.month\n",
    "# Drop date & browser fields\n",
    "sessionCounts = sessionCounts.drop(columns = ['dim_browser', 'dim_date'])\n",
    "# Aggregate on month & device\n",
    "sessionCountsAggregated = sessionCounts.groupby(['year', 'month', 'dim_deviceCategory'], as_index = False).sum()\n",
    "# Sort data by date descending\n",
    "sessionCountsAggregated = sessionCountsAggregated.sort_values(['year', 'month'], ascending = False)\n",
    "# Create formatted date column\n",
    "sessionCountsAggregated.insert(2,'Date', sessionCountsAggregated['month'].astype(str) + '/' + sessionCountsAggregated['year'].astype(str))\n",
    "# Drop year & month column\n",
    "sessionCountsAggregated.drop(columns= ['year', 'month'], inplace = True)\n",
    "# Calculate the ECR (transactions/sessions)\n",
    "sessionCountsAggregated['ECR'] = sessionCountsAggregated['transactions']/sessionCountsAggregated['sessions']\n",
    "# Write to excel\n",
    "sessionCountsAggregated.to_excel(OUTPUT_FILE_NAME, index = False)\n",
    "# Load xlsx in openpyxl for worksheet formatting\n",
    "workbook = load_workbook(OUTPUT_FILE_NAME)\n",
    "worksheet = workbook.active\n",
    "# Update worksheet name\n",
    "worksheet.title = 'Month Device Stats'\n",
    "# Update header names\n",
    "header = ['Date', 'Device Category', 'Sessions', 'Transactions', 'QTY', 'ECR']\n",
    "colNum = 1\n",
    "# Cell formatting\n",
    "for i in header:\n",
    "    worksheet.cell(row = 1, column = colNum).value = i\n",
    "    worksheet.cell(row = 1, column = colNum).font = HEADER_FONT\n",
    "    worksheet.cell(row = 1, column = colNum).fill = HEADER_FILL\n",
    "    worksheet.cell(row = 1, column = colNum).border = BORDER\n",
    "    colNum += 1\n",
    "centerAndResize(worksheet)\n",
    "# Save\n",
    "workbook.save(OUTPUT_FILE_NAME)   \n"
   ]
  },
  {
   "cell_type": "markdown",
   "metadata": {},
   "source": [
    "Month Over Month Worksheet"
   ]
  },
  {
   "cell_type": "code",
   "execution_count": 38,
   "metadata": {},
   "outputs": [],
   "source": [
    "# Constants\n",
    "METRICS = ['addsToCart', 'sessions', 'transactions', 'QTY', 'ECR']\n",
    "METRIC_DISPLAY_NAMES = ['Adds To Cart', 'Sessions', 'Transactions', 'QTY', 'ECR']\n",
    "MONTHS = 2 \n",
    "# Import csv\n",
    "addToCart = pd.read_csv(ADDS_TO_CART_FILE_NAME)\n",
    "# Drop device category field\n",
    "sessionCountsv2 = sessionCounts.drop(columns=['dim_deviceCategory'])\n",
    "# Group by year & month\n",
    "sessionCountsv2Aggregated = sessionCountsv2.groupby(['year', 'month'], as_index = False).sum()\n",
    "# Create ECR field\n",
    "sessionCountsv2Aggregated['ECR'] = sessionCountsv2Aggregated['transactions']/sessionCountsv2Aggregated['sessions']\n",
    "# Joining metrics from sessionCount sheet\n",
    "monthOverMonth = pd.merge(addToCart,sessionCountsv2Aggregated, left_on=['dim_year','dim_month'], right_on=['year','month'])\n",
    "dim = ['year', 'month']\n",
    "# Drop duplicate year & month\n",
    "monthOverMonthMetricsOnly = monthOverMonth.drop(columns= dim)\n",
    "# Select most recent 2 months\n",
    "monthOverMonthMetricsOnly = monthOverMonthMetricsOnly.sort_values(by=['dim_year','dim_month'], ascending = False).head(MONTHS)\n",
    "# Load workbook\n",
    "workbook = load_workbook(OUTPUT_FILE_NAME)\n",
    "# Create new worksheet\n",
    "worksheet = workbook.create_sheet('Month Over Month')\n",
    "# Writing headers\n",
    "worksheet.cell(row = 1, column = 2).value = '{0}/{1}'.format(monthOverMonthMetricsOnly.iloc[0]['dim_month'].astype(int), monthOverMonthMetricsOnly.iloc[0]['dim_year'].astype(int))\n",
    "worksheet.cell(row = 1, column = 3).value = '{0}/{1}'.format(monthOverMonthMetricsOnly.iloc[1]['dim_month'].astype(int), monthOverMonthMetricsOnly.iloc[1]['dim_year'].astype(int))\n",
    "worksheet.cell(row = 1, column = 4).value = 'Absolute Diff'\n",
    "worksheet.cell(row = 1, column = 5).value = 'Relative Diff (%)'\n",
    "# Header formatting\n",
    "for i in range(1, 6):\n",
    "    worksheet.cell(row = 1, column = i).font = HEADER_FONT\n",
    "    worksheet.cell(row = 1, column = i).fill = HEADER_FILL\n",
    "    worksheet.cell(row = 1, column = i).border = BORDER\n",
    "# Writing metric stats & formatting\n",
    "rowNum = 2\n",
    "for i in range(len(METRICS)):\n",
    "    metric = METRICS[i]\n",
    "    current = monthOverMonthMetricsOnly.iloc[0][metric]\n",
    "    prior = monthOverMonthMetricsOnly.iloc[1][metric]\n",
    "    worksheet.cell(row = rowNum, column = 1).value = METRIC_DISPLAY_NAMES[i]\n",
    "    worksheet.cell(row = rowNum, column = 1).font = HEADER_FONT\n",
    "    worksheet.cell(row = rowNum, column = 1).fill = HEADER_FILL\n",
    "    worksheet.cell(row = rowNum, column = 1).border = BORDER\n",
    "    worksheet.cell(row = rowNum, column = 2).value = current\n",
    "    worksheet.cell(row = rowNum, column = 3).value = prior\n",
    "    worksheet.cell(row = rowNum, column = 4).value = current-prior\n",
    "    worksheet.cell(row = rowNum, column = 5).value = ((current-prior)/prior)*100\n",
    "    # red font if number is negative\n",
    "    if worksheet.cell(row = rowNum, column = 5).value < 0:\n",
    "        worksheet.cell(row = rowNum, column = 4).font = Font(color = 'ff0000', bold = True)\n",
    "        worksheet.cell(row = rowNum, column = 5).font = Font(color = 'ff0000', bold = True)\n",
    "    rowNum += 1\n",
    "centerAndResize(worksheet)\n",
    "# Save\n",
    "workbook.save(OUTPUT_FILE_NAME)    "
   ]
  }
 ],
 "metadata": {
  "interpreter": {
   "hash": "aee8b7b246df8f9039afb4144a1f6fd8d2ca17a180786b69acc140d282b71a49"
  },
  "kernelspec": {
   "display_name": "Python 3.9.4 64-bit",
   "language": "python",
   "name": "python3"
  },
  "language_info": {
   "codemirror_mode": {
    "name": "ipython",
    "version": 3
   },
   "file_extension": ".py",
   "mimetype": "text/x-python",
   "name": "python",
   "nbconvert_exporter": "python",
   "pygments_lexer": "ipython3",
   "version": "3.9.4"
  },
  "orig_nbformat": 4
 },
 "nbformat": 4,
 "nbformat_minor": 2
}
